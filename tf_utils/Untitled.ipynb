{
 "cells": [
  {
   "cell_type": "code",
   "execution_count": null,
   "id": "f26f7e9a-7354-468a-b975-63cd44e3cda2",
   "metadata": {},
   "outputs": [],
   "source": [
    "class CustomCell(keras.layers.Layer):\n",
    "    def __init__(self, embed_dim, num_heads, mem_len=0, **kwargs):\n",
    "        super().__init__(**kwargs)\n",
    "        self.state_size = (1, 2)\n",
    "\n",
    "        self.mha = keras.layers.MultiHeadAttention(key_dim=embed_dim, num_heads=num_heads)\n",
    "        self.ffn = keras.Sequential([\n",
    "            keras.layers.Dense(2*embed_dim, input_shape=(embed_dim,)),\n",
    "            keras.layers.Dense(embed_dim)\n",
    "        ])\n",
    "\n",
    "    # def get_initial_state(inputs=None, batch_size=None, dtype=None):\n",
    "\n",
    "\n",
    "    def call(self, inputs, states, training=None):\n",
    "        seq_len = tf.shape(inputs)[1]\n",
    "        # states = tf.cast(states, dtype=tf.float32)\n",
    "        # tf.print(tf.shape(states[0]))\n",
    "        # tf.concat((inputs, states), axis=1)\n",
    "        # self.mha(inpust, inputs, inputs, training=training)\n",
    "        tf.print(\"Invoked:\", states)\n",
    "        states[0] += 2\n",
    "        return inputs, [states]"
   ]
  }
 ],
 "metadata": {
  "kernelspec": {
   "display_name": "Python 3 (ipykernel)",
   "language": "python",
   "name": "python3"
  },
  "language_info": {
   "codemirror_mode": {
    "name": "ipython",
    "version": 3
   },
   "file_extension": ".py",
   "mimetype": "text/x-python",
   "name": "python",
   "nbconvert_exporter": "python",
   "pygments_lexer": "ipython3",
   "version": "3.10.4"
  }
 },
 "nbformat": 4,
 "nbformat_minor": 5
}
